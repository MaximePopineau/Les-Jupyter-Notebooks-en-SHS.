{
 "cells": [
  {
   "cell_type": "markdown",
   "id": "66103bf4-a9ef-4f5a-840c-5613ad441acb",
   "metadata": {},
   "source": [
    "# <span style=\"font-size:18pt;\"><mark style=\"background-color: white;\">Un panorama des pratiques informatiques dans les publications de recherche dans la base de données HAL.</mark></span>\n",
    "Un exemple des bonnes pratiques à mettre en place pour constituer un Notebook.\n",
    "\n",
    "Créer par POPINEAU Maxime, en avril-mai 2023."
   ]
  },
  {
   "cell_type": "markdown",
   "id": "0c83109e-44de-4c55-a2ab-0d0fd8c34b30",
   "metadata": {},
   "source": [
    "## <span style=\"font-size: 14pt\"> Information sur les données.</span>\n",
    "\n",
    "Les données utilisées dans ce notebook proviennent du site des archives ouvertes (https://hal.science/). Les archives ouvertes sont une plateforme numérique qui permet aux chercheurs de publier, partager et diffuser leurs travaux scientifiques en ligne.\n",
    "\n",
    "Les données sont fournies au format texte en open source et sont accessibles via le site internet ou via l'API (Interface de programmation d'application). Une API fournit des \"endpoints\" permettant d'interagir avec leur site web et de récupérer des informations grâce à des recherches. Les APIs facilitent la communication entre plusieurs applications informatiques, ce qui facilite l'échange d'informations et permet aux développeurs de construire de nouvelles applications avec diverses utilisations.\n",
    "\n",
    "L'utilisation d'une API nécessite également une chaîne de requête (query string en anglais), qui est une partie à ajouter à droite de l'URL de base pour inclure des paramètres et des valeurs.\n",
    "\n",
    "Un exemple de chaîne de requête est : https://api.archives-ouvertes.fr/search/?q=%22jupyter%20notebook%22. Cette URL fonctionne directement dans notre navigateur web et renvoie les résultats de notre recherche.\n",
    "\n",
    "https://api.archives-ouvertes.fr/search est la première partie qui permet de rechercher dans l'API des archives ouvertes. La deuxième partie, ?q=%22jupyter%20notebook%22, permet de spécifier notre requête, qui est \"jupyter notebook\".\n",
    "\n",
    "Certains caractères, tels que l'espace ou les guillemets doubles, doivent être transmis correctement via le protocole HTTP pour être encodés. Le %22 correspond à l'encodage ASCII du caractère double guillemet et le %20 correspond à l'encodage de l'espace. Cela permet à l'ordinateur d'effectuer la requête sur \"jupyter notebook\" et non  \"jupyter\" et \"notebook\" séparément.\n",
    "\n",
    "L'utilisation d'une API permet d'interroger les données en utilisant des paramètres, par exemple pour connaître le nombre d'articles publiés dans HAL en 2014.\n",
    "\n",
    "Dans ce notebook, nous allons voir comment utiliser l'API des archives ouvertes ainsi que les bibliothèques pandas et matplotlib."
   ]
  },
  {
   "cell_type": "markdown",
   "id": "b59cb0e1-6e4d-4cbb-8fed-826fa958b7a9",
   "metadata": {},
   "source": [
    "## <span style=\"font-size: 14pt\"> Objectifs de ce Jupyter Notebook.</span>\n",
    "\n",
    "Ce Jupyter Notebook a plusieurs buts :\n",
    "\n",
    "1. Faire un panorama des pratiques numériques des chercheurs.\n",
    "2. Fournir un exemple de Jupyter Notebook reproductible et de qualité.\n",
    "3. Enseigner des compétences aux utilisateurs débutants ou expérimentés avec Python."
   ]
  },
  {
   "cell_type": "markdown",
   "id": "3f28feab-54d8-4417-8ebd-381b0488f7ca",
   "metadata": {
    "tags": []
   },
   "source": [
    "## <span style=\"font-size: 14pt\"> Compétences.</span>\n",
    "\n",
    "Ce Jupyter Notebook est à destination d'un public débutant. Il est conseillé de connaître le langage informatique Python pour suivre le Notebook mais pas obligatoire.\n",
    "\n",
    "Le document permet d'acquérir des compétences variées comme :\n",
    "\n",
    "1. Savoir utiliser les différentes librairies comme pandas et matplotlib.\n",
    "2. Utiliser les fonctions en Python pour éviter la duplication du code.\n",
    "3. Savoir faire une requête dans une API.\n",
    "\n"
   ]
  },
  {
   "cell_type": "markdown",
   "id": "1b6b7886-1071-4c7f-8b0d-f469bab9030e",
   "metadata": {},
   "source": [
    "## Section 0 : Importation des librairies.\n",
    "\n",
    "Dans cette section, nous allons importer les librairies nécessaires à notre analyse.\n",
    "\n",
    "1. La librairie requests et json permet de faire les requêtes dans l'API de HAL.\n",
    "2. Pandas est utilisé pour faire de l'analyse de données. La librarie fournit des fonctions pour créer, manipuler et analyser les DataFrames.\n",
    "3. Matplotlib permet de faire des graphiques et de visualiser les données."
   ]
  },
  {
   "cell_type": "code",
   "execution_count": 1,
   "id": "697b9fbb-0dfb-4e50-bfae-858c3d49a22f",
   "metadata": {},
   "outputs": [],
   "source": [
    "import requests, json\n",
    "import pandas as pd\n",
    "import matplotlib.pyplot as plt"
   ]
  },
  {
   "cell_type": "markdown",
   "id": "6bd40303-6c83-42e5-854d-8f0be99aa680",
   "metadata": {},
   "source": [
    "## Section 1 : Analyse du nombre de publications concernant Python et les Jupyter Notebooks dans l'API de HAL."
   ]
  },
  {
   "cell_type": "markdown",
   "id": "6da9edf4-ba44-4631-b793-05c0cd73fca1",
   "metadata": {},
   "source": [
    "## <span style=\"font-size: 12pt\">1.0 : Utilisation d'une fonction qui retourne le nombre d'articles par année en fonction d'une recherche.</span>\n",
    "\n",
    "Les fonctions permettent de rendre le code plus lisible et de réduire la duplication du code."
   ]
  },
  {
   "cell_type": "markdown",
   "id": "9885ad96-3cce-4a2d-abd1-0d48f840f69d",
   "metadata": {},
   "source": [
    "Pour faire une requête dans l'API, il est nécessaire de lire la documentation du site HAL disponible à cette adresse : https://api.archives-ouvertes.fr/docs/search"
   ]
  },
  {
   "cell_type": "code",
   "execution_count": 2,
   "id": "eddbb371-ac45-4591-9966-7f691ded5327",
   "metadata": {},
   "outputs": [],
   "source": [
    "def get_publication_counts(query):\n",
    "    # Effectue une requête pour obtenir le nombre total de publications\n",
    "    req = requests.get(f\"https://api.archives-ouvertes.fr/search/?q=text_fulltext:({query})&rows=0&facet=true&facet.field=publicationDateY_i\")\n",
    "    req_json = req.json()\n",
    "    nb = req_json[\"response\"][\"numFound\"]\n",
    "    print(f\"Le nombre total de résultats est de : {nb}\\n\")\n",
    "\n",
    "    # Effectue une requête pour obtenir le nombre de publications par année\n",
    "    year_counts = []\n",
    "    for year in range(1995, 2023):\n",
    "        req = requests.get(f\"https://api.archives-ouvertes.fr/search/?q=text_fulltext:({query}) AND publicationDateY_i:{year}&rows=0\")\n",
    "        req_json = req.json()\n",
    "        year_count = req_json[\"response\"][\"numFound\"]\n",
    "        year_counts.append((year, year_count))\n",
    "\n",
    "    # Transforme la liste de tuples en un DataFrame pandas et le renvoie\n",
    "    df = pd.DataFrame(year_counts, columns=[\"Année\", \"Nombre de publications\"])\n",
    "    return df"
   ]
  },
  {
   "cell_type": "markdown",
   "id": "8197672c-eb6f-4f57-8a09-6db0ff482f33",
   "metadata": {},
   "source": [
    "Nous allons ensuite appelé cette fonction et imprimer le dataframe créé grâce à la librairie Pandas."
   ]
  },
  {
   "cell_type": "code",
   "execution_count": 3,
   "id": "4ed5b820-2c56-4a3c-bf4b-49ab497d69da",
   "metadata": {},
   "outputs": [
    {
     "name": "stdout",
     "output_type": "stream",
     "text": [
      "Le nombre total de résultats est de : 29658\n",
      "\n",
      "    Année  Nombre de publications\n",
      "0    1995                       2\n",
      "1    1996                       1\n",
      "2    1997                       3\n",
      "3    1998                       4\n",
      "4    1999                       7\n",
      "5    2000                       8\n",
      "6    2001                      10\n",
      "7    2002                      13\n",
      "8    2003                      32\n",
      "9    2004                      32\n",
      "10   2005                      68\n",
      "11   2006                     114\n",
      "12   2007                     108\n",
      "13   2008                     161\n",
      "14   2009                     224\n",
      "15   2010                     328\n",
      "16   2011                     444\n",
      "17   2012                     566\n",
      "18   2013                     660\n",
      "19   2014                     877\n",
      "20   2015                    1048\n",
      "21   2016                    1386\n",
      "22   2017                    1929\n",
      "23   2018                    2603\n",
      "24   2019                    3577\n",
      "25   2020                    4152\n",
      "26   2021                    5146\n",
      "27   2022                    5155\n"
     ]
    }
   ],
   "source": [
    "df = get_publication_counts(\"python\")\n",
    "print(df)"
   ]
  },
  {
   "cell_type": "markdown",
   "id": "9e18c57d-79c4-4aac-95b6-17e36ce5051c",
   "metadata": {},
   "source": [
    "Le dataframe montre une augmentation importante des articles concernant Python dans la base de donnée HAL. Le nombre d'articles sur Python passe de 10 en 2001 à 444 en 2011 puis 5143 en 2021 soit une multiplication par 500 en l'espace d'une vingtaine d'années. Il est important de noter que l'année 2022 est la première année de baisse du nombre d'articles concernant Python par rapport à l'année précédente depuis 1996."
   ]
  },
  {
   "cell_type": "markdown",
   "id": "2bf778ba-4b90-4b42-b204-422eee59eb2b",
   "metadata": {},
   "source": [
    "## <span style=\"font-size: 12pt\">1.1 : Faire un graphique avec la librairie Matplotlib pour voir le nombre de publications sur Python en fonction des années.</span>"
   ]
  },
  {
   "cell_type": "markdown",
   "id": "e6387388-95ac-4e7a-ae85-e4cbae57e35d",
   "metadata": {},
   "source": [
    "Nous allons passer maintenant à la représentation graphique avec la librairie Matplotlib."
   ]
  },
  {
   "cell_type": "code",
   "execution_count": 4,
   "id": "bc27ef87-b97a-4c5b-b067-7ea1f39a82c6",
   "metadata": {},
   "outputs": [
    {
     "name": "stdout",
     "output_type": "stream",
     "text": [
      "Le nombre d'articles contenant le mot clé 'python' est de : 29658\n",
      "\n"
     ]
    },
    {
     "data": {
      "image/png": "[encoded data removed]",
      "text/plain": [
       "<Figure size 640x480 with 1 Axes>"
      ]
     },
     "metadata": {},
     "output_type": "display_data"
    }
   ],
   "source": [
    "# Effectue une requête pour obtenir le nombre d'articles avec le mot-clé \"Python\"\n",
    "query = \"python\"\n",
    "req = requests.get(f\"https://api.archives-ouvertes.fr/search/?q=text_fulltext:({query})&rows=0&facet=true&facet.field=producedDateY_i\")\n",
    "req_json = req.json()\n",
    "nb = req_json[\"response\"][\"numFound\"]\n",
    "print(f\"Le nombre d'articles contenant le mot clé '{query}' est de : {nb}\\n\")\n",
    "\n",
    "# Effectue uen requête pour obtenir le nombre d'articles avec le mot-clé \"Python\" par année\n",
    "year_counts = req_json[\"facet_counts\"][\"facet_fields\"][\"producedDateY_i\"]\n",
    "year_counts = [year_counts[i:i+2] for i in range(0, len(year_counts), 2) if int(year_counts[i]) >= 1995]\n",
    "years = [int(year) for year, count in year_counts]\n",
    "counts = [count for year, count in year_counts]\n",
    "\n",
    "# Création du graphique\n",
    "plt.bar(years, counts)\n",
    "plt.title(\"Nombre de résultats concernant Python dans la base de HAL par années(après 1995)\")\n",
    "plt.xlabel(\"Year\")\n",
    "plt.ylabel(\"Number of publications\")\n",
    "plt.show()"
   ]
  },
  {
   "cell_type": "markdown",
   "id": "6210bcf5-f5dc-40f5-83ef-9f4434fcc781",
   "metadata": {},
   "source": [
    "Matplotlib est une librairie qui permet de faire ce graphique pour visualiser l'augmentation des articles sur Python dans la base de données HAL. \n",
    "L'année 2023 marquera probablement une baisse dans le nombre d'articles publiés sur Python dans la base de données de HAL car 5 mois se sont déjà écoulés et il n'y a même pas 1000 articles."
   ]
  },
  {
   "cell_type": "markdown",
   "id": "e49dc79b-6f80-4be6-9022-72d3d7bb5995",
   "metadata": {},
   "source": [
    "### <span style=\"font-size: 12pt\"> 1.2 : Obtenir les résultats pour les Jupyter Notebooks.</span>"
   ]
  },
  {
   "cell_type": "markdown",
   "id": "d220aec9-0e1a-4c8c-82aa-93c0fd9cd505",
   "metadata": {},
   "source": [
    "Nous appelons la même fonction que dans le 1.0"
   ]
  },
  {
   "cell_type": "code",
   "execution_count": 5,
   "id": "ac172faa-5f98-45f3-a6f5-748ee89a2b96",
   "metadata": {},
   "outputs": [
    {
     "name": "stdout",
     "output_type": "stream",
     "text": [
      "Le nombre total de résultats est de : 839\n",
      "\n",
      "    Année  Nombre de publications\n",
      "0    1995                       0\n",
      "1    1996                       0\n",
      "2    1997                       0\n",
      "3    1998                       0\n",
      "4    1999                       0\n",
      "5    2000                       0\n",
      "6    2001                       0\n",
      "7    2002                       0\n",
      "8    2003                       0\n",
      "9    2004                       0\n",
      "10   2005                       0\n",
      "11   2006                       0\n",
      "12   2007                       0\n",
      "13   2008                       0\n",
      "14   2009                       0\n",
      "15   2010                       0\n",
      "16   2011                       0\n",
      "17   2012                       0\n",
      "18   2013                       0\n",
      "19   2014                       0\n",
      "20   2015                       1\n",
      "21   2016                      12\n",
      "22   2017                      24\n",
      "23   2018                      69\n",
      "24   2019                     106\n",
      "25   2020                     138\n",
      "26   2021                     211\n",
      "27   2022                     224\n"
     ]
    }
   ],
   "source": [
    "df = get_publication_counts(\"jupyter AND (notebook OR notebooks)\")\n",
    "print(df)"
   ]
  },
  {
   "cell_type": "markdown",
   "id": "0a32e892-2b5a-4123-a0f6-d32f4479a650",
   "metadata": {},
   "source": [
    "Le dataframe montre une augmentation importante des articles concernant les Jupyter Notebooks dans la base de donnée HAL. Le nombre d'articles concernant les Jupyter Notebooks (avec et sans s) passent de 12 en 2016 à 70 (multiplé par 5) en 2018 puis à 223 en 2022. Le nombre de publications a été multiplé à peu près par 19 entre 2016 et 2022."
   ]
  },
  {
   "cell_type": "markdown",
   "id": "7d5b20d5-d460-488b-b53d-1aed7e8606d7",
   "metadata": {},
   "source": [
    "Il est important de comparer cette hausse d'intérêt pour Python et pour les Jupyter Notebooks à la hausse du nombre d'articles dans HAL. \n",
    "Cette hausse du nombre d'articles pourrait ne pas être la conséquence d'une hausse d'intérêt mais d'une hausse dans le nombre d'articles."
   ]
  },
  {
   "cell_type": "markdown",
   "id": "283dabcc-f7ac-4088-8aed-fbda4124be20",
   "metadata": {},
   "source": [
    "## <span style=\"font-size: 12pt\"> 1.3 : Calculer le pourcentage d'articles concernant Python et les Jupyter Notebooks sur le nombre total d'articles dans la base de données HAL en fonction des années.</span>"
   ]
  },
  {
   "cell_type": "markdown",
   "id": "0f6e7a0d-29ec-4a84-910e-69f72572e8f2",
   "metadata": {},
   "source": [
    "Nous utilisons l'API de HAL et la librairie pandas pour créer un tableau."
   ]
  },
  {
   "cell_type": "code",
   "execution_count": 6,
   "id": "1e06648a-9d28-4c94-870f-60c189d0aefc",
   "metadata": {},
   "outputs": [
    {
     "name": "stdout",
     "output_type": "stream",
     "text": [
      "    year  total_articles  python_articles  jupyter_articles  percent_python  \\\n",
      "0   1995           22487                2                 0        0.008894   \n",
      "1   1996           24105                1                 0        0.004149   \n",
      "2   1997           25851                4                 0        0.015473   \n",
      "3   1998           27627                4                 0        0.014479   \n",
      "4   1999           28523                6                 0        0.021036   \n",
      "5   2000           32956                8                 0        0.024275   \n",
      "6   2001           34899               10                 0        0.028654   \n",
      "7   2002           42051               13                 0        0.030915   \n",
      "8   2003           51430               31                 0        0.060276   \n",
      "9   2004           62753               34                 0        0.054181   \n",
      "10  2005           83606               67                 0        0.080138   \n",
      "11  2006           99789              114                 0        0.114241   \n",
      "12  2007          109901              109                 0        0.099180   \n",
      "13  2008          115342              160                 0        0.138718   \n",
      "14  2009          124940              227                 0        0.181687   \n",
      "15  2010          137032              332                 0        0.242279   \n",
      "16  2011          142769              447                 0        0.313093   \n",
      "17  2012          149211              564                 0        0.377988   \n",
      "18  2013          158221              662                 0        0.418402   \n",
      "19  2014          164572              874                 0        0.531075   \n",
      "20  2015          175305             1055                 1        0.601808   \n",
      "21  2016          186745             1390                13        0.744331   \n",
      "22  2017          194836             1939                23        0.995196   \n",
      "23  2018          198098             2593                68        1.308948   \n",
      "24  2019          199792             3579               107        1.791363   \n",
      "25  2020          172185             4137               138        2.402648   \n",
      "26  2021          180604             5153               210        2.853204   \n",
      "27  2022          155775             5148               221        3.304766   \n",
      "\n",
      "    percent_jupyter  \n",
      "0          0.000000  \n",
      "1          0.000000  \n",
      "2          0.000000  \n",
      "3          0.000000  \n",
      "4          0.000000  \n",
      "5          0.000000  \n",
      "6          0.000000  \n",
      "7          0.000000  \n",
      "8          0.000000  \n",
      "9          0.000000  \n",
      "10         0.000000  \n",
      "11         0.000000  \n",
      "12         0.000000  \n",
      "13         0.000000  \n",
      "14         0.000000  \n",
      "15         0.000000  \n",
      "16         0.000000  \n",
      "17         0.000000  \n",
      "18         0.000000  \n",
      "19         0.000000  \n",
      "20         0.000570  \n",
      "21         0.006961  \n",
      "22         0.011805  \n",
      "23         0.034326  \n",
      "24         0.053556  \n",
      "25         0.080146  \n",
      "26         0.116276  \n",
      "27         0.141871  \n"
     ]
    }
   ],
   "source": [
    "# Récupère le nombre total d'articles pour chaque année\n",
    "total_counts = []\n",
    "for year in range(1995, 2023):\n",
    "    req = requests.get(f\"https://api.archives-ouvertes.fr/search/?q=*&fq=producedDateY_i:{year}&rows=0\")\n",
    "    req_json = req.json()\n",
    "    year_count = req_json[\"response\"][\"numFound\"]\n",
    "    total_counts.append((year, year_count))\n",
    "total_df = pd.DataFrame(total_counts, columns=[\"year\", \"total_articles\"])\n",
    "\n",
    "# Récupère le nombre d'articles concernant Python pour chaque année\n",
    "python_counts = []\n",
    "for year in range(1995, 2023):\n",
    "    req = requests.get(f\"https://api.archives-ouvertes.fr/search/?q=text_fulltext:(Python)&fq=producedDateY_i:{year}&rows=0\")\n",
    "    req_json = req.json()\n",
    "    year_count = req_json.get(\"response\", {}).get(\"numFound\", 0)\n",
    "    python_counts.append((year, year_count))\n",
    "python_df = pd.DataFrame(python_counts, columns=[\"year\", \"python_articles\"])\n",
    "\n",
    "# le nombre d'articles concernant les Jupyter Notebooks pour chaque année\n",
    "jupyter_counts = []\n",
    "for year in range(1995, 2023):\n",
    "    req = requests.get(f\"https://api.archives-ouvertes.fr/search/?q=text_fulltext:(jupyter AND (notebook OR notebooks))&fq=producedDateY_i:{year}&rows=0\")\n",
    "    req_json = req.json()\n",
    "    year_count = req_json.get(\"response\", {}).get(\"numFound\", 0)\n",
    "    jupyter_counts.append((year, year_count))\n",
    "jupyter_df = pd.DataFrame(jupyter_counts, columns=[\"year\", \"jupyter_articles\"])\n",
    "\n",
    "# Fusionne les trois dataframes\n",
    "merged_df = pd.merge(total_df, python_df, on=\"year\")\n",
    "merged_df = pd.merge(merged_df, jupyter_df, on=\"year\")\n",
    "\n",
    "# Calcul le pourcentage des articles concernant Python et les JupyterNotebooks pour chaque année.\n",
    "merged_df[\"percent_python\"] = merged_df[\"python_articles\"] / merged_df[\"total_articles\"] * 100\n",
    "merged_df[\"percent_jupyter\"] = merged_df[\"jupyter_articles\"] / merged_df[\"total_articles\"] * 100\n",
    "\n",
    "# Visualise le tableau\n",
    "print(merged_df)"
   ]
  },
  {
   "cell_type": "markdown",
   "id": "5d096e3a-47f8-48c7-b957-d257a1d0e7db",
   "metadata": {},
   "source": [
    "Le tableau montre que le pourcentage des documents concernant Python et les Jupyter Notebooks augmente dans le total de documents publiés dans HAL. L'intérêt pour Python et les Jupyter Notebooks augmente dans le cadre de la recherche.\n",
    "\n",
    "En 2002, les documents relatifs à Python ne représentaient que 0,03% du total des documents présents dans la base de données HAL. Ce chiffre est passé à 0,37% en 2012 et a atteint 3,31% en 2022. \n",
    "\n",
    "Le Projet Jupyter a été lancé en 2014. Les premiers résultats apparaissent en 2015 avec un document traitant des Jupyter Notebooks. En 2019, le pourcentage des documents relatifs aux Jupyter Notebooks représentaient 0,05% du nombre total de documents présents. Ce chiffre est de 0,14% en 2022.\n",
    "\n",
    "Bien que l'intérêt pour Python et les Jupyter Notebooks soit en hausse, le nombre d'articles les concernant reste relativement faible dans la base de données de HAL."
   ]
  },
  {
   "cell_type": "markdown",
   "id": "fea5204c-8305-4d2b-ac08-f82a525aa6f8",
   "metadata": {},
   "source": [
    "Il est intéressant de voir quelles sont les mots clés les plus cherchés dans la base des archives ouvertes si Python ne représente que 3.30% des documents présents et les Jupyter Notebooks que 0,14% des documents présents."
   ]
  },
  {
   "cell_type": "markdown",
   "id": "beebf154-6f3a-4bbd-935c-f2ae0647579f",
   "metadata": {},
   "source": [
    "## Section 2 : Travail d'analyse sur la recherche \"Python\" et \"Jupyter Notebook\".\n",
    "\n",
    "Cette section permet de voir comment faire une requête dans l'API de HAL pour obtenir le type de documents concernant une recherche précise (dans notre exemple : Python et les Jupyter Notebooks).\n",
    "\n",
    "Nous verrons aussi comment récupérer dans l'API de HAL le domaine d'une recherche."
   ]
  },
  {
   "cell_type": "markdown",
   "id": "c09fc3dc-6e3c-438f-96df-01890c7de2e1",
   "metadata": {
    "tags": []
   },
   "source": [
    "## <span style=\"font-size: 12pt\"> 2.0 : Obtenir le type de document en fonction d'une recherche.</span>"
   ]
  },
  {
   "cell_type": "markdown",
   "id": "1d1dfafb-7e72-4c30-b2a4-b6e4d152d4d4",
   "metadata": {},
   "source": [
    "Pour faire une requête dans l'API, il est nécessaire de lire la documentation du site HAL disponible à cette adresse : https://api.archives-ouvertes.fr/docs/search"
   ]
  },
  {
   "cell_type": "code",
   "execution_count": 7,
   "id": "ab0fc7b1-3a79-46ba-9877-7dcacd84ce58",
   "metadata": {},
   "outputs": [],
   "source": [
    "def get_doc_types(query):\n",
    "    req = requests.get(f\"https://api.archives-ouvertes.fr/search/?q={query}&rows=0&facet=true&facet.field=docType_s\")\n",
    "    req_json = req.json()\n",
    "    doc_types = req_json[\"facet_counts\"][\"facet_fields\"][\"docType_s\"]\n",
    "    doc_types = [doc_types[i:i+2] for i in range(0, len(doc_types), 2)]\n",
    "    total_docs = req_json[\"response\"][\"numFound\"]\n",
    "    doc_types_dict = {doc_type: count/total_docs*100 for doc_type, count in doc_types}\n",
    "    return doc_types_dict"
   ]
  },
  {
   "cell_type": "markdown",
   "id": "f23700fb-27e7-46ec-8581-9352cbb81e0d",
   "metadata": {},
   "source": [
    "Nous faisons une fonction que nous allons appeler dans la suite de notre code comme dans la Section 1."
   ]
  },
  {
   "cell_type": "code",
   "execution_count": 8,
   "id": "1df107f7-a086-481d-a0fe-2638b7768e33",
   "metadata": {},
   "outputs": [
    {
     "name": "stdout",
     "output_type": "stream",
     "text": [
      "{'ART': 47.177827230426864, 'COMM': 25.595117674826355, 'THESE': 11.97316069863106, 'UNDEFINED': 5.330770786971475, 'REPORT': 2.650212421606312, 'MEM': 2.259086924270011, 'COUV': 1.483579472654933, 'POSTER': 0.8328275676040192, 'HDR': 0.687841391867287, 'OTHER': 0.5495987591880774, 'OUV': 0.41472789803762894, 'LECTURE': 0.32369006676107626, 'PROCEEDINGS': 0.21242160631195628, 'SOFTWARE': 0.17196034796682175, 'BLOG': 0.11464023197788119, 'PRESCONF': 0.0910378312765527, 'ISSUE': 0.0303459437588509, 'VIDEO': 0.023602400701328477, 'OTHERREPORT': 0.016858857643806055, 'REPORT_FORM': 0.013487086115044844, 'REPORT_LICE': 0.013487086115044844, 'REPORT_LABO': 0.010115314586283633, 'ETABTHESE': 0.003371771528761211, 'MAP': 0.003371771528761211, 'MEMLIC': 0.003371771528761211, 'REPORT_LPRO': 0.003371771528761211, 'REPORT_MAST': 0.003371771528761211, 'SYNTHESE': 0.003371771528761211, 'TRAD': 0.003371771528761211, 'CREPORT': 0.0, 'DOUV': 0.0, 'IMG': 0.0, 'MANUAL': 0.0, 'NOTE': 0.0, 'NOTICE': 0.0, 'PATENT': 0.0, 'REPACT': 0.0, 'REPORT_COOR': 0.0, 'REPORT_DOCT': 0.0, 'REPORT_ETAB': 0.0, 'REPORT_FPROJ': 0.0, 'REPORT_GLICE': 0.0, 'REPORT_GMAST': 0.0, 'REPORT_RETABINT': 0.0, 'REPORT_RFOINT': 0.0, 'SON': 0.0}\n"
     ]
    }
   ],
   "source": [
    "doc_types = get_doc_types(\"text_fulltext:(python)\")\n",
    "print(doc_types)"
   ]
  },
  {
   "cell_type": "markdown",
   "id": "d6b3b3fc-17ae-42eb-85af-fc60deb199fb",
   "metadata": {},
   "source": [
    "Parmi les documents liés à Python dans la base de données HAL, les articles scientifiques représentent 47%, suivis des communications à 25%, et des thèses à 11%. En revanche, les cours ne représentent qu'une faible proportion de 0,32%."
   ]
  },
  {
   "cell_type": "code",
   "execution_count": 9,
   "id": "d3c690ca-86e7-49aa-bc43-48d05c1fcb13",
   "metadata": {},
   "outputs": [
    {
     "name": "stdout",
     "output_type": "stream",
     "text": [
      "{'ART': 39.130434782608695, 'COMM': 32.608695652173914, 'BLOG': 6.521739130434782, 'LECTURE': 6.521739130434782, 'UNDEFINED': 5.434782608695652, 'OUV': 2.1739130434782608, 'REPORT': 2.1739130434782608, 'SOFTWARE': 2.1739130434782608, 'POSTER': 1.0869565217391304, 'THESE': 1.0869565217391304, 'VIDEO': 1.0869565217391304, 'COUV': 0.0, 'CREPORT': 0.0, 'DOUV': 0.0, 'ETABTHESE': 0.0, 'HDR': 0.0, 'IMG': 0.0, 'ISSUE': 0.0, 'MANUAL': 0.0, 'MAP': 0.0, 'MEM': 0.0, 'MEMLIC': 0.0, 'NOTE': 0.0, 'NOTICE': 0.0, 'OTHER': 0.0, 'OTHERREPORT': 0.0, 'PATENT': 0.0, 'PRESCONF': 0.0, 'PROCEEDINGS': 0.0, 'REPACT': 0.0, 'REPORT_COOR': 0.0, 'REPORT_DOCT': 0.0, 'REPORT_ETAB': 0.0, 'REPORT_FORM': 0.0, 'REPORT_FPROJ': 0.0, 'REPORT_GLICE': 0.0, 'REPORT_GMAST': 0.0, 'REPORT_LABO': 0.0, 'REPORT_LICE': 0.0, 'REPORT_LPRO': 0.0, 'REPORT_MAST': 0.0, 'REPORT_RETABINT': 0.0, 'REPORT_RFOINT': 0.0, 'SON': 0.0, 'SYNTHESE': 0.0, 'TRAD': 0.0}\n"
     ]
    }
   ],
   "source": [
    "doc_types = get_doc_types(\"jupyter AND (notebook OR notebooks)\")\n",
    "print(doc_types)"
   ]
  },
  {
   "cell_type": "markdown",
   "id": "52a7d308-5b4c-433a-bbfb-ba7e61dfadd6",
   "metadata": {},
   "source": [
    "Parmi les documents liés aux Jupyter Notebooks dans la base de données HAL, les articles scientifiques représesentent 39%, les communications 32% et des blogs à 6,52%. Les cours représentent eux seulement 6%."
   ]
  },
  {
   "cell_type": "markdown",
   "id": "c9726618-d48c-42a4-bd4c-358b4bb99c6b",
   "metadata": {},
   "source": [
    "Nous pouvons nous demander aussi dans quelle discipline les Jupyter Notebooks sont utilisés. Notre hypothèse est dire que ce format est plus utilisé en informatique et dans les disciplines scientifiques comme en physique par exemple."
   ]
  },
  {
   "cell_type": "markdown",
   "id": "7c935c5e-d733-48c3-87a5-d1b57e05f4c4",
   "metadata": {
    "tags": []
   },
   "source": [
    "## <span style=\"font-size: 12pt\"> 2.1 : Obtenir le domaine des articles concernant les Jupyter Notebooks.</span>"
   ]
  },
  {
   "cell_type": "markdown",
   "id": "73db9e10-517e-4bc7-8048-b2164ec7b4b1",
   "metadata": {},
   "source": [
    "Nous allons voir comment obtenir le domaine d'une recherche grâce à l'API de HAL."
   ]
  },
  {
   "cell_type": "code",
   "execution_count": 10,
   "id": "1f7a85a8-0e76-4f6b-8914-de66254af588",
   "metadata": {},
   "outputs": [
    {
     "name": "stdout",
     "output_type": "stream",
     "text": [
      "   Domaine  Pourcentage\n",
      "0   0.info    17.895683\n",
      "1    0.sdv     7.194245\n",
      "2   0.phys     4.316547\n",
      "3    0.sdu     4.091727\n",
      "4    0.shs     3.821942\n",
      "5   0.math     3.012590\n",
      "6    0.spi     2.877698\n",
      "7    0.sde     1.843525\n",
      "8   0.stat     1.663669\n",
      "9   0.scco     1.169065\n",
      "10  0.chim     0.989209\n"
     ]
    }
   ],
   "source": [
    "# Faire la requête pour obtenir le nombre de documents contenant \"jupyter\" et \"notebook(s)\"\n",
    "req = requests.get(\"https://api.archives-ouvertes.fr/search/?q=text_fulltext:(jupyter AND (notebook OR notebooks))&rows=0&facet=true&facet.field=domain_s\")\n",
    "\n",
    "# Obtenir les données de la requête au format JSON\n",
    "req_json = req.json()\n",
    "\n",
    "# Extraire les domaines et leur nombre de la réponse JSON\n",
    "domain_counts = req_json[\"facet_counts\"][\"facet_fields\"][\"domain_s\"]\n",
    "domain_counts = [(domain_counts[i], domain_counts[i+1]) for i in range(0, len(domain_counts), 2)]\n",
    "\n",
    "# Séparer les domaines multiples et leur nombre de documents en entrées individuelles\n",
    "domain_counts_split = []\n",
    "for domain_count in domain_counts:\n",
    "    domains = domain_count[0].split(';')\n",
    "    for domain in domains:\n",
    "        domain_counts_split.append((domain.strip(), domain_count[1]))  # Garder le domaine complet\n",
    "\n",
    "# Calculer le nombre total de documents\n",
    "total = sum([count for _, count in domain_counts_split])\n",
    "\n",
    "# Calculer le pourcentage de documents par domaine\n",
    "domain_percents = [(domain[0], domain[1]/total*100) for domain in domain_counts_split]\n",
    "\n",
    "# Filtrer les domaines ayant un seul mot et un pourcentage supérieur à 0,5% et supprimer les domaines spécifiques\n",
    "domain_percents_filtered = [(domain, percent) for domain, percent in domain_percents if percent > 0.5 and len(domain.split()) == 1\n",
    "                            and not any(domain_specific in domain for domain_specific in [\"1.info.info-ai\", \"1.info.info-bi\", \"1.phys.astr\", \"info.info-lg\", \"sdv.neu\", \"sdu.ocean\", \"math.math-st\"])]\n",
    "\n",
    "# Supprimer les domaines qui commencent par \"1\"\n",
    "domain_percents_filtered = [(domain, percent) for domain, percent in domain_percents_filtered if not domain.startswith(\"1\")]\n",
    "\n",
    "# Créer un dataframe à partir des pourcentages filtrés et trier par ordre décroissant\n",
    "df = pd.DataFrame(domain_percents_filtered, columns=[\"Domaine\", \"Pourcentage\"])\n",
    "df = df.sort_values(by=[\"Pourcentage\"], ascending=False)\n",
    "\n",
    "# Afficher le dataframe\n",
    "print(df)"
   ]
  },
  {
   "cell_type": "markdown",
   "id": "254e8d2a-a128-432a-8cba-b44b8be9b508",
   "metadata": {},
   "source": [
    "Les Jupyter Notebooks commencent à être utiliser en SHS mais très peu (3,8%) par rapport à l'informatique (17%) ou en Statisques et Données de la Vie (7%).\n",
    "\n",
    "Il est encore assez compliqué de trouver des Notebooks disponibles en SHS que cela soit en Histoire ou en Géographie. Une explication peut être le fait que la pratique des Notebooks en SHS est nouvelle et aussi le fait que les sciences sociales ont moins besoin d'utiliser des langages informatiques qu'en informatique et qu'en Statistiques et Données de la Vie. Le manque de ressources sur comment bien utiliser les Jupyter Notebooks dans le cadre des SHS peut être une cause aussi de ce faible pourcentage."
   ]
  },
  {
   "cell_type": "markdown",
   "id": "eacdf6fb-0258-4d0a-8bcd-0a39942011d0",
   "metadata": {},
   "source": [
    "## Section 3 : Travail général sur les pratiques numériques des chercheurs.\n",
    "\n",
    "Nous allons voir dans cette partie quels sont les logiciels et les différents langages informatiques (autre que Python) que les chercheurs utilisent le plus dans la base de HAL."
   ]
  },
  {
   "cell_type": "markdown",
   "id": "8f3018ec-52c7-4aeb-b535-a6c67764640f",
   "metadata": {},
   "source": [
    "## <span style=\"font-size: 12pt\"> 3.0 : Les autres pratiques numériques des chercheurs.</span>"
   ]
  },
  {
   "cell_type": "code",
   "execution_count": 11,
   "id": "7e4842cc-1c8d-4bd5-ab7b-dcf3525ef902",
   "metadata": {},
   "outputs": [
    {
     "name": "stdout",
     "output_type": "stream",
     "text": [
      "                                Nombre de documents\n",
      "SAS                                           10752\n",
      "Matlab                                         2841\n",
      "HTML                                           2727\n",
      "Python                                         2628\n",
      "Rust                                           1111\n",
      "Perl                                            852\n",
      "Excel                                           660\n",
      "Fortran                                         541\n",
      "Javascript                                      432\n",
      "Stata                                           420\n",
      "Spss                                            353\n",
      "pascal langage informatique                     214\n",
      "Bash                                             47\n",
      "Rstudio                                          42\n",
      "Libreoffice                                      12\n",
      "langage de programmation Julia                    8\n"
     ]
    }
   ],
   "source": [
    "# Liste des termes de recherche\n",
    "terms = [\"langage de programmation Julia\", \"Rstudio\", \"Python\", \"pascal langage informatique\", \"Matlab\", \"Javascript\", \"Spss\", \"Stata\", \"Fortran\", \"Javascript\", \"Bash\", \"Rust\", \"SAS\", \"Excel\", \"Libreoffice\", \"Perl\", \"HTML\"]\n",
    "\n",
    "# Dictionnaire pour stocker les résultats\n",
    "results = {}\n",
    "\n",
    "# Pour chaque terme de recherche, faire une requête et extraire le nombre total de résultats\n",
    "for term in terms:\n",
    "    req = requests.get(f\"https://api.archives-ouvertes.fr/search/?q={term}&rows=0\")\n",
    "    req_json = req.json()\n",
    "    total = req_json[\"response\"][\"numFound\"]\n",
    "    results[term] = total\n",
    "\n",
    "# Afficher les résultats sous forme de tableau\n",
    "import pandas as pd\n",
    "\n",
    "df = pd.DataFrame.from_dict(results, orient=\"index\", columns=[\"Nombre de documents\"])\n",
    "df = df.sort_values(by=[\"Nombre de documents\"], ascending=False)\n",
    "\n",
    "print(df)"
   ]
  },
  {
   "cell_type": "markdown",
   "id": "23725088-0084-4a26-bcae-29f0b8f96ea1",
   "metadata": {},
   "source": [
    "Il est intéressant de voir les différentes pratiques numériques des chercheurs. Python a pris beaucoup d'importance mais il est important de voir que les chercheurs utilisent aussi d'autres langages informatiques comme HTML, Perl, Pascal ou bien Javascript. Les chercheurs utilisent aussi des logiciels comme Rstudio, LibreOffice mais surtout Excel."
   ]
  },
  {
   "cell_type": "markdown",
   "id": "be534a0f-e253-46ac-9145-ad6ed1879458",
   "metadata": {},
   "source": [
    "## <span style=\"font-size: 12pt\"> 3.1 : Les principaux types de documents.</span>"
   ]
  },
  {
   "cell_type": "markdown",
   "id": "2afd5e72-e4d5-4664-a6eb-c8dfdf6827d2",
   "metadata": {},
   "source": [
    "Il est important de voir les autres pratiques numériques des chercheurs et de comparer le type de document produit dans la plateforme HAL."
   ]
  },
  {
   "cell_type": "code",
   "execution_count": 12,
   "id": "fb2d8d8c-57be-459a-bed6-62e3df028bb8",
   "metadata": {},
   "outputs": [
    {
     "name": "stdout",
     "output_type": "stream",
     "text": [
      "          langage de programmation Julia    Rstudio     Python  \\\n",
      "COMM                                62.5  33.333333  24.657534   \n",
      "THESE                               25.0              6.392694   \n",
      "LECTURE                             12.5                         \n",
      "ART                                       23.809524  48.135464   \n",
      "REPORT                                      9.52381              \n",
      "COUV                                                             \n",
      "POSTER                                                           \n",
      "MEM                                                              \n",
      "BLOG                                                             \n",
      "UNDEFINED                                                        \n",
      "OTHER                                                            \n",
      "\n",
      "          pascal langage informatique     Matlab Javascript       Spss  \\\n",
      "COMM                        41.588785  42.062654  55.092593  17.847025   \n",
      "THESE                       13.084112  14.255544   6.712963  11.898017   \n",
      "LECTURE                                                                  \n",
      "ART                         21.495327  31.608589  16.203704  53.824363   \n",
      "REPORT                                                                   \n",
      "COUV                                                                     \n",
      "POSTER                                                                   \n",
      "MEM                                                                      \n",
      "BLOG                                                                     \n",
      "UNDEFINED                                                                \n",
      "OTHER                                                                    \n",
      "\n",
      "               Stata    Fortran       Bash       Rust        SAS      Excel  \\\n",
      "COMM                  22.365989  21.276596  20.432043  27.799479  20.151515   \n",
      "THESE      12.142857                         5.310531                         \n",
      "LECTURE                                                                       \n",
      "ART        39.285714   38.44732  38.297872  64.626463  55.068824  32.424242   \n",
      "REPORT                15.711645                                               \n",
      "COUV       11.904762             10.638298                                    \n",
      "POSTER                                                  4.557292              \n",
      "MEM                                                               24.090909   \n",
      "BLOG                                                                          \n",
      "UNDEFINED                                                                     \n",
      "OTHER                                                                         \n",
      "\n",
      "          Libreoffice       Perl       HTML  \n",
      "COMM        41.666667  20.657277  26.439311  \n",
      "THESE                                        \n",
      "LECTURE                                      \n",
      "ART                     72.41784  47.194719  \n",
      "REPORT      16.666667                        \n",
      "COUV                                         \n",
      "POSTER                                       \n",
      "MEM                                          \n",
      "BLOG             25.0                        \n",
      "UNDEFINED               1.643192             \n",
      "OTHER                              4.840484  \n"
     ]
    }
   ],
   "source": [
    "# Liste des termes de recherche\n",
    "terms = [\"langage de programmation Julia\", \"Rstudio\", \"Python\", \"pascal langage informatique\", \"Matlab\", \"Javascript\", \"Spss\", \"Stata\", \"Fortran\", \"Javascript\", \"Bash\", \"Rust\", \"SAS\", \"Excel\", \"Libreoffice\", \"Perl\", \"HTML\"]\n",
    "\n",
    "# Dictionnaire pour stocker les résultats\n",
    "results = {}\n",
    "\n",
    "# Pour chaque terme de recherche, faire une requête et extraire les pourcentages de chaque type de document\n",
    "for term in terms:\n",
    "    doc_types_dict = get_doc_types(term)\n",
    "    results[term] = doc_types_dict\n",
    "\n",
    "# Afficher les résultats sous forme de tableau\n",
    "df_list = []\n",
    "for term, doc_types_dict in results.items():\n",
    "    df = pd.DataFrame.from_dict(doc_types_dict, orient=\"index\", columns=[term])\n",
    "    df = df.loc[df[term] > 0].sort_values(by=[term], ascending=False).head(3)\n",
    "    df.dropna(axis=1, inplace=True)\n",
    "    df_list.append(df)\n",
    "\n",
    "df_final = pd.concat(df_list, axis=1)\n",
    "df_final.fillna(\"\", inplace=True)\n",
    "df_final.dropna(axis=0, how='all', inplace=True)\n",
    "print(df_final)"
   ]
  },
  {
   "cell_type": "markdown",
   "id": "d2b951f3-e580-494b-a662-0f7d245c3260",
   "metadata": {},
   "source": [
    "D'après les résultats obtenus, il apparaît que les types de documents les plus fréquemment associés à nos termes de recherche sont très majoritairement soit des articles scientifiques ou des communications ce qui est le même résultat que pour \"Python\" et les \"Jupyter Notebooks\" obtenu dans la section 2.0"
   ]
  },
  {
   "cell_type": "markdown",
   "id": "fc2833aa-b947-4e16-ac77-8eea51e28d88",
   "metadata": {},
   "source": [
    "Nous avons vu comment mettre des paramètres dans notre query avec le \"query string\" mais il y a une autre manière de faire.\n",
    "\n",
    "On peut créer un dictionnaire et les paramètres sont passés en tant qu'arguments. Lorsque la requête est effectuée, la bibliothèque requests construit automatiquement l'URL avec les paramètres spécifiés dans le dictionnaire params. Cela permet de spécifier les paramètres de manière plus structurée et flexible, en utilisant une syntaxe de dictionnaire."
   ]
  },
  {
   "cell_type": "code",
   "execution_count": 13,
   "id": "6289c56f-7fd4-48d5-829a-0742685a75d9",
   "metadata": {},
   "outputs": [
    {
     "name": "stdout",
     "output_type": "stream",
     "text": [
      "                 Nombre de documents  Pourcentage\n",
      "ART                          1624747    47.968378\n",
      "COMM                          803259    23.715096\n",
      "COUV                          290184     8.567276\n",
      "THESE                         143769     4.244578\n",
      "OUV                            98830     2.917817\n",
      "UNDEFINED                      66749     1.970671\n",
      "MEM                            60382     1.782694\n",
      "OTHER                          59894     1.768286\n",
      "REPORT                         59676     1.761850\n",
      "IMG                            56724     1.674697\n",
      "POSTER                         49246     1.453919\n",
      "ISSUE                           9955     0.293907\n",
      "NOTICE                          8214     0.242507\n",
      "PROCEEDINGS                     8002     0.236248\n",
      "HDR                             6841     0.201971\n",
      "PATENT                          6097     0.180005\n",
      "BLOG                            6012     0.177496\n",
      "REPORT_LABO                     5205     0.153670\n",
      "VIDEO                           3964     0.117032\n",
      "REPORT_MAST                     3413     0.100764\n",
      "LECTURE                         3028     0.089397\n",
      "REPORT_LPRO                     2747     0.081101\n",
      "REPORT_LICE                     2701     0.079743\n",
      "TRAD                            1804     0.053261\n",
      "SOFTWARE                         879     0.025951\n",
      "PRESCONF                         832     0.024564\n",
      "CREPORT                          808     0.023855\n",
      "REPORT_DOCT                      581     0.017153\n",
      "REPORT_ETAB                      491     0.014496\n",
      "MAP                              413     0.012193\n",
      "SON                              326     0.009625\n",
      "REPORT_FORM                      270     0.007971\n",
      "REPORT_GMAST                     222     0.006554\n",
      "OTHERREPORT                      164     0.004842\n",
      "NOTE                             145     0.004281\n",
      "SYNTHESE                         124     0.003661\n",
      "REPORT_FPROJ                     115     0.003395\n",
      "REPORT_GLICE                      91     0.002687\n",
      "REPACT                            70     0.002067\n",
      "ETABTHESE                         50     0.001476\n",
      "MEMLIC                            41     0.001210\n",
      "REPORT_RFOINT                     24     0.000709\n",
      "REPORT_COOR                       20     0.000590\n",
      "REPORT_RETABINT                   11     0.000325\n",
      "MANUAL                             1     0.000030\n",
      "DOUV                               0     0.000000\n"
     ]
    }
   ],
   "source": [
    "# Effectuer une requête pour obtenir les types de document pour tous les documents dans HAL\n",
    "params = {\n",
    "    \"q\": \"*:*\",\n",
    "    \"rows\": 0,\n",
    "    \"fl\": \"docType_s\",\n",
    "    \"facet\": \"true\",\n",
    "    \"facet.field\": \"docType_s\"\n",
    "}\n",
    "req = requests.get(\"https://api.archives-ouvertes.fr/search/\", params=params)\n",
    "req_json = req.json()\n",
    "\n",
    "# Extraire les types de document et leurs nombres de la réponse JSON\n",
    "doc_types = req_json[\"facet_counts\"][\"facet_fields\"][\"docType_s\"]\n",
    "doc_types_dict = {doc_type: count for doc_type, count in zip(doc_types[::2], doc_types[1::2])}\n",
    "\n",
    "# Créer un DataFrame à partir des types de document\n",
    "df = pd.DataFrame.from_dict(doc_types_dict, orient=\"index\", columns=[\"Nombre de documents\"])\n",
    "df = df.sort_values(by=[\"Nombre de documents\"], ascending=False)\n",
    "\n",
    "# Calculer les pourcentages de chaque type de document par rapport au total\n",
    "total_documents = df[\"Nombre de documents\"].sum()\n",
    "df[\"Pourcentage\"] = df[\"Nombre de documents\"] / total_documents * 100\n",
    "\n",
    "# Afficher le DataFrame\n",
    "print(df)"
   ]
  },
  {
   "cell_type": "markdown",
   "id": "ee5d1acc-74a5-4076-b67d-50406e20aefc",
   "metadata": {},
   "source": [
    "En analysant le nombre total de documents dans la base de HAL, on constate que les deux types de documents les plus fréquents sont des articles scientifiques et des communications. Cela correspond aux mêmes résultats obtenus pour \"Python\" et les \"Jupyter Notebooks\". Environ 70% des documents présents dans la base des archives ouvertes sont des articles scientifiques ou des communications."
   ]
  },
  {
   "cell_type": "markdown",
   "id": "ee93dcb8-47e7-4959-85e3-67e636d1ba47",
   "metadata": {},
   "source": [
    "Notre Jupyter Notebook est fini : en espérant qu'il vous a plu et qu'il était clair !\n",
    "\n",
    "Si vous avez des questions ou des retours, merci de m'écrire à mon adresse email universitaire : maxime.popineau@etu.univ-tours.fr."
   ]
  }
 ],
 "metadata": {
  "kernelspec": {
   "display_name": "Python 3 (ipykernel)",
   "language": "python",
   "name": "python3"
  },
  "language_info": {
   "codemirror_mode": {
    "name": "ipython",
    "version": 3
   },
   "file_extension": ".py",
   "mimetype": "text/x-python",
   "name": "python",
   "nbconvert_exporter": "python",
   "pygments_lexer": "ipython3",
   "version": "3.10.9"
  },
  "toc-autonumbering": false,
  "toc-showmarkdowntxt": true,
  "toc-showtags": false
 },
 "nbformat": 4,
 "nbformat_minor": 5
}
